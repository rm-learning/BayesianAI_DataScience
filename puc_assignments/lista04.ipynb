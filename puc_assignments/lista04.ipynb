{
 "cells": [
  {
   "cell_type": "markdown",
   "metadata": {},
   "source": [
    "## 📍 **Questão 1**\n",
    "\n",
    "Utilizando o algoritmo de Naive Bayes, qual a probabilidade de Jogar ou não Jogar, respectivamente, para o registro?\n",
    "\n",
    "`Registro: aparencia - chuva (0), temperatura - fria (1), umidade - normal (1), ventando - sim (1)`\n",
    "\n",
    "> Probabilidade de Não Jogar ['nao']: 0.3571\n",
    "> \n",
    "> Probabilidade de Jogar ['sim']: 0.6428"
   ]
  },
  {
   "cell_type": "markdown",
   "metadata": {},
   "source": [
    "### 📍 **Questão 2**\n",
    "\n",
    "Implemente o método de Naive Bayes utilizando o python. Veja a resposta do algoritmo para o registro.\n",
    "\n",
    "> A implementação do Naive Bayes está disponível no repositório [BayesianAI_DataScience](https://github.com/rm-learning/BayesianAI_DataScience), especificamente na pasta `src`; arquivo `ai01_tm_NaiveBayes.ipynb`"
   ]
  },
  {
   "cell_type": "markdown",
   "metadata": {},
   "source": [
    "### 📍**Questão 3**\n",
    "\n",
    "Implemente o método de Random Forest utilizando o python. Utilize a base acima e compare o resultado deste método com o Naive Bayes e a Árvore de decisão. Ajuste os hiperparâmetros, utilizando o GridSearch e RandomSearch. Faça uma análise comparativa"
   ]
  }
 ],
 "metadata": {
  "language_info": {
   "name": "python"
  },
  "orig_nbformat": 4
 },
 "nbformat": 4,
 "nbformat_minor": 2
}
