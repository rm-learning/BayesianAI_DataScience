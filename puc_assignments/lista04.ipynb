{
 "cells": [
  {
   "cell_type": "markdown",
   "metadata": {},
   "source": [
    "## 📍 **Questão 1**\n",
    "\n",
    "Utilizando o algoritmo de Naive Bayes, qual a probabilidade de Jogar ou não Jogar, respectivamente, para o registro?\n",
    "\n",
    "`Registro: aparencia - chuva (0), temperatura - fria (1), umidade - normal (1), ventando - sim (1)`\n",
    "\n",
    "> Probabilidade de Não Jogar ['nao']: 0.3571\n",
    "> \n",
    "> Probabilidade de Jogar ['sim']: 0.6428"
   ]
  },
  {
   "cell_type": "markdown",
   "metadata": {},
   "source": [
    "### 📍 **Questão 2**\n",
    "\n",
    "Implemente o método de Naive Bayes utilizando o python. Veja a resposta do algoritmo para o registro.\n",
    "\n",
    "> A implementação do Naive Bayes está disponível no repositório [BayesianAI_DataScience](https://github.com/rm-learning/BayesianAI_DataScience), especificamente na pasta `src`; arquivo `ai01_wp_NaiveBayes.ipynb`"
   ]
  },
  {
   "cell_type": "markdown",
   "metadata": {},
   "source": [
    "### 📍**Questão 3**\n",
    "\n",
    "Implemente o método de Random Forest utilizando o python. Utilize a base acima e compare o resultado deste método com o Naive Bayes e a Árvore de decisão. Ajuste os hiperparâmetros, utilizando o GridSearch e RandomSearch. Faça uma análise comparativa\n",
    "\n",
    "> Obtive resultados diferentes para o conjunto de dados weather_play.csv nas diferentes abordagens. O Naive Bayes assume que a presença de uma característica específica não se relaciona com qualquer outro recurso também inserido no dataframe e, por isso, sua análise estatística admite um resultado favorável a 'jogar'. Por outro lado, o Random Forest para um total de 60 estimadores concluiu que 'não jogar' seria a resposta adequada para o registro apresentado na questão 1.\n",
    "\n",
    "> A implementação do Random Forest está disponível no repositório [EnsembleAI_DataScience](https://github.com/rm-learning/EnsembleAI_DataScience), especificamente na pasta `src`; arquivo `ai01_wp_RandomForest.ipynb` "
   ]
  },
  {
   "cell_type": "markdown",
   "metadata": {},
   "source": [
    "### 📍 **Questão 4**\n",
    "\n",
    "A começar pelo Bagging, o Bootstrap Agregating é um método que constroi vários modelos (normalmente árvores de decisão) em subconjuntos aleatórios dos dados de treinamento e, em seguida, combina suas previsões por meio de média ou votação. Ele um usa um subconkunto de dados (bootstrap) para criar as árvores, mas todos os recursos podem ser usados para realizar as divisões, sendo bastante útil para as árvores de decisão.\n",
    "\n",
    "O Boosting, por sua vez, tem por objetivo principal treinar vários modelos de aprendizado de máquina de forma sequencial. Cada modelo subsequente é treinado para corrigir os erros cometidos pelos modelos anteriores. Ele usa todo o conjunto de dados para criar árvores (sem bootstrap), e todos os recursos podem ser usados para realizar as divisões.\n",
    "\n",
    "Por fim, a Random Forest combina várias árvores de decisão para formar uma floresta. Assim ela usa um subconjunto do conjunto de dados (bootstrap) para criar árvores, e apenas subjconjuntos de recursos podem ser usados para realizar as divisões. Válido notar que a Random Forest geralmente supera o Bagging devido à sua camada adicional de aleatoriedade durante a construção da árvore.\n",
    "\n",
    "> As implementações estão disponíveis no repositório [EnsembleAI_DataScience](https://github.com/rm-learning/EnsembleAI_DataScience), especificamente na pasta `src`."
   ]
  },
  {
   "cell_type": "markdown",
   "metadata": {},
   "source": [
    "### 📍 **Questão 5**\n",
    "\n",
    "Resumo do artigo [A Survey of Ensemble Learning Concepts Algorithms Applications and Prospect](https://pucminas.instructure.com/courses/160903/files/9487069?module_item_id=3662740) disponibilizado no canvas.\n",
    "\n",
    "> O artigo redigido por Domor e Yanxia trata sobre uma perspectiva geral do aprendizado em conjunto (Ensemble), uma técnica que combina vários modelos de aprendizado de máquina para obter um melhor desempenho e capacidade de generalização. Nesse sentido, o artigo aborda os três principais métodos ensemble: bagging (Random Forest), boosting (AdaBoost, Gradient Boosting, XGBoost, LightGBM, CatBoost) e stacking, exibindo a maior parte do seu desenvolvimento, bem como suas respectivas representações matemáticas e algorítmicas.\n",
    "> Além disso, nas últimas seções do artigo, há uma descrição das mais recentes aplicações do aprendizado ensemble na atualidade, o que inclui: diagnóstico médico, detecção de fraudes e a análise de sentimentos. Não deixando de abordar as vantagens e limitações desse tipo de aprendizado, bem como as direções futuras que a pesquisa nesse campo tem direcionado."
   ]
  }
 ],
 "metadata": {
  "language_info": {
   "name": "python"
  },
  "orig_nbformat": 4
 },
 "nbformat": 4,
 "nbformat_minor": 2
}
